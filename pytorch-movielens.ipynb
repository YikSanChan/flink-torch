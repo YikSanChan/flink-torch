{
 "cells": [
  {
   "cell_type": "code",
   "execution_count": 1,
   "id": "e65746c7",
   "metadata": {},
   "outputs": [],
   "source": [
    "import numpy as np\n",
    "import pandas as pd\n",
    "\n",
    "import torch\n",
    "from torch import nn"
   ]
  },
  {
   "cell_type": "code",
   "execution_count": 2,
   "id": "abaecb21",
   "metadata": {},
   "outputs": [],
   "source": [
    "n_users, n_items = 943,1682\n",
    "BATCH_SIZE = 32"
   ]
  },
  {
   "cell_type": "code",
   "execution_count": 3,
   "id": "c77f1603",
   "metadata": {},
   "outputs": [],
   "source": [
    "COLS = ['user_id', 'movie_id', 'rating', 'timestamp']\n",
    "train_data = pd.read_csv(\"ml-100k/u1.base\", sep='\\t', names=COLS).drop(columns=['timestamp']).astype(int)\n",
    "test_data = pd.read_csv(\"ml-100k/u1.test\", sep='\\t', names=COLS).drop(columns=['timestamp']).astype(int)"
   ]
  },
  {
   "cell_type": "code",
   "execution_count": 4,
   "id": "98a53359",
   "metadata": {},
   "outputs": [
    {
     "name": "stdout",
     "output_type": "stream",
     "text": [
      "   user_id  movie_id  rating\n",
      "0        1         1       5\n",
      "1        1         2       3\n",
      "2        1         3       4\n",
      "3        1         4       3\n",
      "4        1         5       3\n"
     ]
    }
   ],
   "source": [
    "print(train_data.head())"
   ]
  },
  {
   "cell_type": "code",
   "execution_count": 5,
   "id": "b2553236",
   "metadata": {},
   "outputs": [
    {
     "name": "stdout",
     "output_type": "stream",
     "text": [
      "MatrixFactorization(\n",
      "  (user_factors): Embedding(943, 20)\n",
      "  (item_factors): Embedding(1682, 20)\n",
      ")\n"
     ]
    }
   ],
   "source": [
    "class MatrixFactorization(nn.Module):\n",
    "    def __init__(self, n_users, n_items, n_factors=20):\n",
    "        super().__init__()\n",
    "        self.user_factors = nn.Embedding(n_users, n_factors)\n",
    "        self.item_factors = nn.Embedding(n_items, n_factors)\n",
    "        \n",
    "    def forward(self, user, item):\n",
    "        user = torch.LongTensor(user) - 1\n",
    "        item = torch.LongTensor(item) - 1\n",
    "        u, it = self.user_factors(user), self.item_factors(item)\n",
    "        x = (u * it).sum(1)\n",
    "        assert x.shape == user.shape\n",
    "        return x * 5\n",
    "\n",
    "model = MatrixFactorization(n_users,n_items)\n",
    "print(model)"
   ]
  },
  {
   "cell_type": "code",
   "execution_count": 6,
   "id": "876b3c58",
   "metadata": {},
   "outputs": [],
   "source": [
    "optimizer = torch.optim.Adam(model.parameters(), lr=1e-3)\n",
    "loss_fn = nn.L1Loss()"
   ]
  },
  {
   "cell_type": "code",
   "execution_count": 7,
   "id": "58fd8efe",
   "metadata": {},
   "outputs": [],
   "source": [
    "def train(data, model, loss_fn, optimizer):\n",
    "    size = len(data)\n",
    "    for batch in range(len(data) // BATCH_SIZE):\n",
    "        df = train_data.sample(frac = BATCH_SIZE / len(data))\n",
    "        users = df.user_id.values\n",
    "        items = df.movie_id.values\n",
    "        targets = torch.FloatTensor(df.rating.values)\n",
    "        assert users.shape == (BATCH_SIZE,) == items.shape\n",
    "\n",
    "        preds = model(users, items)\n",
    "        loss = loss_fn(preds, targets)\n",
    "        assert preds.shape == targets.shape\n",
    "\n",
    "        optimizer.zero_grad()\n",
    "        loss.backward()\n",
    "        optimizer.step()\n",
    "        \n",
    "        if batch % 500 == 0:\n",
    "            loss_val, current = loss.item(), batch * len(df)\n",
    "            print(f\"loss: {loss_val:>7f}  [{current:>5d}/{size:>5d}]\")"
   ]
  },
  {
   "cell_type": "code",
   "execution_count": 8,
   "id": "f40aa6fe",
   "metadata": {},
   "outputs": [
    {
     "name": "stdout",
     "output_type": "stream",
     "text": [
      "Epoch 1\n",
      "-------------------------------\n",
      "loss: 19.158390  [    0/80000]\n",
      "loss: 20.400898  [16000/80000]\n",
      "loss: 16.354418  [32000/80000]\n",
      "loss: 17.356035  [48000/80000]\n",
      "loss: 12.336580  [64000/80000]\n",
      "Epoch 2\n",
      "-------------------------------\n",
      "loss: 12.111501  [    0/80000]\n",
      "loss: 12.418196  [16000/80000]\n",
      "loss: 11.015608  [32000/80000]\n",
      "loss: 14.375877  [48000/80000]\n",
      "loss: 9.192761  [64000/80000]\n",
      "Epoch 3\n",
      "-------------------------------\n",
      "loss: 9.547726  [    0/80000]\n",
      "loss: 13.102158  [16000/80000]\n",
      "loss: 7.257485  [32000/80000]\n",
      "loss: 9.111304  [48000/80000]\n",
      "loss: 10.287742  [64000/80000]\n",
      "Epoch 4\n",
      "-------------------------------\n",
      "loss: 7.727145  [    0/80000]\n",
      "loss: 8.329201  [16000/80000]\n",
      "loss: 9.980255  [32000/80000]\n",
      "loss: 9.402223  [48000/80000]\n",
      "loss: 8.590054  [64000/80000]\n",
      "Epoch 5\n",
      "-------------------------------\n",
      "loss: 5.210504  [    0/80000]\n",
      "loss: 5.075870  [16000/80000]\n",
      "loss: 8.919378  [32000/80000]\n",
      "loss: 6.623483  [48000/80000]\n",
      "loss: 4.891846  [64000/80000]\n",
      "Done!\n"
     ]
    }
   ],
   "source": [
    "epochs = 5\n",
    "for e in range(epochs):\n",
    "    print(f\"Epoch {e+1}\\n-------------------------------\")\n",
    "    train(train_data, model, loss_fn, optimizer)\n",
    "print(\"Done!\")"
   ]
  },
  {
   "cell_type": "code",
   "execution_count": 9,
   "id": "169701b9",
   "metadata": {},
   "outputs": [
    {
     "name": "stdout",
     "output_type": "stream",
     "text": [
      "Saved PyTorch Model State to model.pth\n"
     ]
    }
   ],
   "source": [
    "torch.save(model.state_dict(), \"model.pth\")\n",
    "print(\"Saved PyTorch Model State to model.pth\")"
   ]
  },
  {
   "cell_type": "code",
   "execution_count": 11,
   "id": "8b746261",
   "metadata": {},
   "outputs": [
    {
     "data": {
      "text/plain": [
       "<All keys matched successfully>"
      ]
     },
     "execution_count": 11,
     "metadata": {},
     "output_type": "execute_result"
    }
   ],
   "source": [
    "model = MatrixFactorization(n_users, n_items)\n",
    "model.load_state_dict(torch.load(\"model.pth\"))"
   ]
  },
  {
   "cell_type": "code",
   "execution_count": 12,
   "id": "d655f942",
   "metadata": {},
   "outputs": [],
   "source": [
    "model.eval()\n",
    "sample_record = test_data.iloc[0]\n",
    "x_user, x_item, y = sample_record[\"user_id\"], sample_record[\"movie_id\"], sample_record[\"rating\"]"
   ]
  },
  {
   "cell_type": "code",
   "execution_count": 13,
   "id": "eea6e62e",
   "metadata": {},
   "outputs": [
    {
     "name": "stdout",
     "output_type": "stream",
     "text": [
      "Predicted: \"tensor([3.0286])\", Actual: \"5\"\n"
     ]
    }
   ],
   "source": [
    "with torch.no_grad():\n",
    "    pred = model([x_user], [x_item])\n",
    "    print(f'Predicted: \"{pred}\", Actual: \"{y}\"')"
   ]
  }
 ],
 "metadata": {
  "kernelspec": {
   "display_name": "Python 3",
   "language": "python",
   "name": "python3"
  },
  "language_info": {
   "codemirror_mode": {
    "name": "ipython",
    "version": 3
   },
   "file_extension": ".py",
   "mimetype": "text/x-python",
   "name": "python",
   "nbconvert_exporter": "python",
   "pygments_lexer": "ipython3",
   "version": "3.7.10"
  }
 },
 "nbformat": 4,
 "nbformat_minor": 5
}
